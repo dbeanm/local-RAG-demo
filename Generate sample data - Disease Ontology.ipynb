{
 "cells": [
  {
   "cell_type": "markdown",
   "metadata": {},
   "source": [
    "Generate some very simple data to use as documents in RAG. These are very short documents that will be quick to index locally. The required source file can be accessed at:\n",
    "\n",
    "https://github.com/DiseaseOntology/HumanDiseaseOntology/blob/main/src/ontology/HumanDO.json"
   ]
  },
  {
   "cell_type": "code",
   "execution_count": 1,
   "metadata": {},
   "outputs": [],
   "source": [
    "import json"
   ]
  },
  {
   "cell_type": "code",
   "execution_count": 2,
   "metadata": {},
   "outputs": [],
   "source": [
    "with open('./data/HumanDO.json') as f:\n",
    "    data = json.load(f)"
   ]
  },
  {
   "cell_type": "code",
   "execution_count": 26,
   "metadata": {},
   "outputs": [
    {
     "data": {
      "text/plain": [
       "14054"
      ]
     },
     "execution_count": 26,
     "metadata": {},
     "output_type": "execute_result"
    }
   ],
   "source": [
    "# there is a lot of information in the DO files, we're only going to use the name and definition to generate\n",
    "# some short documents.\n",
    "# total number of nodes:\n",
    "len(data['graphs'][0]['nodes'])"
   ]
  },
  {
   "cell_type": "code",
   "execution_count": 7,
   "metadata": {},
   "outputs": [
    {
     "data": {
      "text/plain": [
       "{'id': 'http://purl.obolibrary.org/obo/DOID_0001816',\n",
       " 'lbl': 'angiosarcoma',\n",
       " 'type': 'CLASS',\n",
       " 'meta': {'definition': {'val': 'A vascular cancer that derives_from the cells that line the walls of blood vessels or lymphatic vessels.',\n",
       "   'xrefs': ['url:http://en.wikipedia.org/wiki/Hemangiosarcoma',\n",
       "    'url:https://en.wikipedia.org/wiki/Angiosarcoma',\n",
       "    'url:https://ncit.nci.nih.gov/ncitbrowser/ConceptReport.jsp?dictionary=NCI_Thesaurus&ns=ncit&code=C3088',\n",
       "    'url:https://www.ncbi.nlm.nih.gov/pubmed/23327728']},\n",
       "  'subsets': ['http://purl.obolibrary.org/obo/doid#DO_cancer_slim',\n",
       "   'http://purl.obolibrary.org/obo/doid#NCIthesaurus'],\n",
       "  'synonyms': [{'pred': 'hasExactSynonym', 'val': 'hemangiosarcoma'}],\n",
       "  'xrefs': [{'val': 'ICDO:9120/3'},\n",
       "   {'val': 'MESH:D006394'},\n",
       "   {'val': 'NCI:C3088'},\n",
       "   {'val': 'NCI:C9275'},\n",
       "   {'val': 'SNOMEDCT_US_2023_03_01:39000009'},\n",
       "   {'val': 'UMLS_CUI:C0018923'},\n",
       "   {'val': 'UMLS_CUI:C0854893'}],\n",
       "  'basicPropertyValues': [{'pred': 'http://www.geneontology.org/formats/oboInOwl#hasAlternativeId',\n",
       "    'val': 'DOID:267'},\n",
       "   {'pred': 'http://www.geneontology.org/formats/oboInOwl#hasAlternativeId',\n",
       "    'val': 'DOID:4508'},\n",
       "   {'pred': 'http://www.geneontology.org/formats/oboInOwl#hasOBONamespace',\n",
       "    'val': 'disease_ontology'}]}}"
      ]
     },
     "execution_count": 7,
     "metadata": {},
     "output_type": "execute_result"
    }
   ],
   "source": [
    "# each node looks like this\n",
    "data['graphs'][0]['nodes'][0]"
   ]
  },
  {
   "cell_type": "code",
   "execution_count": 8,
   "metadata": {},
   "outputs": [],
   "source": [
    "limit = 100"
   ]
  },
  {
   "cell_type": "code",
   "execution_count": 16,
   "metadata": {},
   "outputs": [],
   "source": [
    "# generate documents for demo purposes with some basic preprocessing.\n",
    "docs = []\n",
    "for i in range(limit):\n",
    "    item = data['graphs'][0]['nodes'][i]\n",
    "    text = item['lbl'] + \" is \" + item['meta']['definition']['val']\n",
    "    text = text.replace(\"_\", \" \")\n",
    "    doc = {'name': item['lbl'], 'text': text}\n",
    "    docs.append(doc)"
   ]
  },
  {
   "cell_type": "code",
   "execution_count": 27,
   "metadata": {},
   "outputs": [],
   "source": [
    "with open('./data/dataset.json', 'w') as f:\n",
    "    json.dump(docs, f)"
   ]
  },
  {
   "cell_type": "code",
   "execution_count": null,
   "metadata": {},
   "outputs": [],
   "source": []
  }
 ],
 "metadata": {
  "kernelspec": {
   "display_name": "llmv1",
   "language": "python",
   "name": "llmv1"
  },
  "language_info": {
   "codemirror_mode": {
    "name": "ipython",
    "version": 3
   },
   "file_extension": ".py",
   "mimetype": "text/x-python",
   "name": "python",
   "nbconvert_exporter": "python",
   "pygments_lexer": "ipython3",
   "version": "3.12.1"
  }
 },
 "nbformat": 4,
 "nbformat_minor": 2
}
